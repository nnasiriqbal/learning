{
 "cells": [
  {
   "cell_type": "markdown",
   "id": "5de1b771",
   "metadata": {},
   "source": [
    "# Data Science Tools and Ecosystem"
   ]
  },
  {
   "cell_type": "raw",
   "id": "08d4a3d0",
   "metadata": {},
   "source": [
    "Objectives:\n",
    "1- Tools in data science\n",
    "2- Libraries for data scientist\n",
    "3- Numeric calculation\n",
    "4- conversion of minutes to hours\n"
   ]
  },
  {
   "cell_type": "markdown",
   "id": "ac3b0284",
   "metadata": {},
   "source": [
    "Some of the popular languages that Data Scientists use are"
   ]
  },
  {
   "cell_type": "markdown",
   "id": "251fafa5",
   "metadata": {},
   "source": [
    "1- Python"
   ]
  },
  {
   "cell_type": "markdown",
   "id": "7a0c3f43",
   "metadata": {},
   "source": [
    "2- R"
   ]
  },
  {
   "cell_type": "markdown",
   "id": "f1177e66",
   "metadata": {},
   "source": [
    "3- SQL"
   ]
  },
  {
   "cell_type": "markdown",
   "id": "ed3eed79",
   "metadata": {},
   "source": [
    "Some of the commonly used libraries used by Data Scientists include"
   ]
  },
  {
   "cell_type": "raw",
   "id": "c21619cf",
   "metadata": {},
   "source": [
    "1- Pandas\n",
    "2- NumPy\n",
    "3- Keras"
   ]
  },
  {
   "cell_type": "markdown",
   "id": "99a8bd43",
   "metadata": {},
   "source": [
    "Data Science Tools"
   ]
  },
  {
   "cell_type": "raw",
   "id": "325f93e9",
   "metadata": {},
   "source": [
    "1- Anaconda\n",
    "2- jupiter nootbook\n",
    "3- R-Studio"
   ]
  },
  {
   "cell_type": "markdown",
   "id": "d1d2c2c8",
   "metadata": {},
   "source": [
    "### introducing arithmetic expression "
   ]
  },
  {
   "cell_type": "markdown",
   "id": "bc85eb27",
   "metadata": {},
   "source": [
    "This a simple arithmetic expression to mutiply then add integers"
   ]
  },
  {
   "cell_type": "code",
   "execution_count": 7,
   "id": "0d3af1b7",
   "metadata": {},
   "outputs": [
    {
     "data": {
      "text/plain": [
       "17"
      ]
     },
     "execution_count": 7,
     "metadata": {},
     "output_type": "execute_result"
    }
   ],
   "source": [
    "(3*4)+5"
   ]
  },
  {
   "cell_type": "markdown",
   "id": "960d95cd",
   "metadata": {},
   "source": [
    "convert minutes to hours\n"
   ]
  },
  {
   "cell_type": "code",
   "execution_count": 8,
   "id": "67bfa7e1",
   "metadata": {},
   "outputs": [
    {
     "data": {
      "text/plain": [
       "3.3333333333333335"
      ]
     },
     "execution_count": 8,
     "metadata": {},
     "output_type": "execute_result"
    }
   ],
   "source": [
    "200/60"
   ]
  },
  {
   "cell_type": "markdown",
   "id": "78881f4b",
   "metadata": {},
   "source": [
    "# Author\n"
   ]
  },
  {
   "cell_type": "markdown",
   "id": "f90c64a3",
   "metadata": {},
   "source": [
    "Nasir\n"
   ]
  },
  {
   "cell_type": "code",
   "execution_count": null,
   "id": "712a9eea",
   "metadata": {},
   "outputs": [],
   "source": []
  }
 ],
 "metadata": {
  "kernelspec": {
   "display_name": "Python 3 (ipykernel)",
   "language": "python",
   "name": "python3"
  },
  "language_info": {
   "codemirror_mode": {
    "name": "ipython",
    "version": 3
   },
   "file_extension": ".py",
   "mimetype": "text/x-python",
   "name": "python",
   "nbconvert_exporter": "python",
   "pygments_lexer": "ipython3",
   "version": "3.11.4"
  }
 },
 "nbformat": 4,
 "nbformat_minor": 5
}
